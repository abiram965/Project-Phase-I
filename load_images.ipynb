{
 "cells": [
  {
   "cell_type": "code",
   "execution_count": 2,
   "id": "2645a553-2a7b-4648-9c90-fce6601dfcb7",
   "metadata": {},
   "outputs": [
    {
     "name": "stdout",
     "output_type": "stream",
     "text": [
      "Found 0 images.\n",
      "Total images processed: 0\n",
      "No images found or processed.\n"
     ]
    }
   ],
   "source": [
    "def pickle_images_labels():\n",
    "    images_labels = []\n",
    "    images = glob(\"gestures/*/*.jpg\")\n",
    "    images.sort()\n",
    "    print(f\"Found {len(images)} images.\")  # Debugging line\n",
    "\n",
    "    for image in images:\n",
    "        print(image)\n",
    "        label = image[image.find(os.sep) + 1: image.rfind(os.sep)]\n",
    "        img = cv2.imread(image, 0)\n",
    "        if img is None:\n",
    "            print(f\"Failed to load image: {image}\")\n",
    "            continue\n",
    "        images_labels.append((np.array(img, dtype=np.uint8), int(label)))\n",
    "    \n",
    "    print(f\"Total images processed: {len(images_labels)}\")  # Debugging line\n",
    "    return images_labels\n",
    "\n",
    "images_labels = pickle_images_labels()\n",
    "\n",
    "# Check if images_labels is empty before unpacking\n",
    "if len(images_labels) > 0:\n",
    "    images_labels = shuffle(shuffle(shuffle(shuffle(images_labels))))\n",
    "    images, labels = zip(*images_labels)\n",
    "    print(\"Length of images_labels\", len(images_labels))\n",
    "\n",
    "    # Proceed with the rest of the code...\n",
    "else:\n",
    "    print(\"No images found or processed.\")\n"
   ]
  },
  {
   "cell_type": "code",
   "execution_count": null,
   "id": "c787520f-9fd0-48c9-854a-2f93e81018e0",
   "metadata": {},
   "outputs": [],
   "source": []
  }
 ],
 "metadata": {
  "kernelspec": {
   "display_name": "Python 3 (ipykernel)",
   "language": "python",
   "name": "python3"
  },
  "language_info": {
   "codemirror_mode": {
    "name": "ipython",
    "version": 3
   },
   "file_extension": ".py",
   "mimetype": "text/x-python",
   "name": "python",
   "nbconvert_exporter": "python",
   "pygments_lexer": "ipython3",
   "version": "3.11.9"
  }
 },
 "nbformat": 4,
 "nbformat_minor": 5
}
