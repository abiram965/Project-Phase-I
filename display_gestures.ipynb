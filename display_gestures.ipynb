{
 "cells": [
  {
   "cell_type": "code",
   "execution_count": 1,
   "id": "d0442f25-ca54-4dbd-8440-55a99503b8b1",
   "metadata": {},
   "outputs": [
    {
     "ename": "AttributeError",
     "evalue": "'NoneType' object has no attribute 'shape'",
     "output_type": "error",
     "traceback": [
      "\u001b[1;31m---------------------------------------------------------------------------\u001b[0m",
      "\u001b[1;31mAttributeError\u001b[0m                            Traceback (most recent call last)",
      "Cell \u001b[1;32mIn[1], line 12\u001b[0m\n\u001b[0;32m     10\u001b[0m begin_index \u001b[38;5;241m=\u001b[39m \u001b[38;5;241m0\u001b[39m\n\u001b[0;32m     11\u001b[0m end_index \u001b[38;5;241m=\u001b[39m \u001b[38;5;241m5\u001b[39m\n\u001b[1;32m---> 12\u001b[0m image_x, image_y \u001b[38;5;241m=\u001b[39m \u001b[43mget_image_size\u001b[49m\u001b[43m(\u001b[49m\u001b[43m)\u001b[49m\n\u001b[0;32m     14\u001b[0m \u001b[38;5;28;01mif\u001b[39;00m \u001b[38;5;28mlen\u001b[39m(gestures)\u001b[38;5;241m%\u001b[39m\u001b[38;5;241m5\u001b[39m \u001b[38;5;241m!=\u001b[39m \u001b[38;5;241m0\u001b[39m:\n\u001b[0;32m     15\u001b[0m \trows \u001b[38;5;241m=\u001b[39m \u001b[38;5;28mint\u001b[39m(\u001b[38;5;28mlen\u001b[39m(gestures)\u001b[38;5;241m/\u001b[39m\u001b[38;5;241m5\u001b[39m)\u001b[38;5;241m+\u001b[39m\u001b[38;5;241m1\u001b[39m\n",
      "Cell \u001b[1;32mIn[1], line 6\u001b[0m, in \u001b[0;36mget_image_size\u001b[1;34m()\u001b[0m\n\u001b[0;32m      4\u001b[0m \u001b[38;5;28;01mdef\u001b[39;00m \u001b[38;5;21mget_image_size\u001b[39m():\n\u001b[0;32m      5\u001b[0m \timg \u001b[38;5;241m=\u001b[39m cv2\u001b[38;5;241m.\u001b[39mimread(\u001b[38;5;124m'\u001b[39m\u001b[38;5;124mgestures/0/100.jpg\u001b[39m\u001b[38;5;124m'\u001b[39m, \u001b[38;5;241m0\u001b[39m)\n\u001b[1;32m----> 6\u001b[0m \t\u001b[38;5;28;01mreturn\u001b[39;00m \u001b[43mimg\u001b[49m\u001b[38;5;241;43m.\u001b[39;49m\u001b[43mshape\u001b[49m\n",
      "\u001b[1;31mAttributeError\u001b[0m: 'NoneType' object has no attribute 'shape'"
     ]
    }
   ],
   "source": [
    "import cv2, os, random\n",
    "import numpy as np\n",
    "\n",
    "def get_image_size():\n",
    "\timg = cv2.imread('gestures/0/100.jpg', 0)\n",
    "\treturn img.shape\n",
    "\n",
    "gestures = os.listdir('gestures/')\n",
    "gestures.sort(key = int)\n",
    "begin_index = 0\n",
    "end_index = 5\n",
    "image_x, image_y = get_image_size()\n",
    "\n",
    "if len(gestures)%5 != 0:\n",
    "\trows = int(len(gestures)/5)+1\n",
    "else:\n",
    "\trows = int(len(gestures)/5)\n",
    "\n",
    "full_img = None\n",
    "for i in range(rows):\n",
    "\tcol_img = None\n",
    "\tfor j in range(begin_index, end_index):\n",
    "\t\timg_path = \"gestures/%s/%d.jpg\" % (j, random.randint(1, 1200))\n",
    "\t\timg = cv2.imread(img_path, 0)\n",
    "\t\tif np.any(img == None):\n",
    "\t\t\timg = np.zeros((image_y, image_x), dtype = np.uint8)\n",
    "\t\tif np.any(col_img == None):\n",
    "\t\t\tcol_img = img\n",
    "\t\telse:\n",
    "\t\t\tcol_img = np.hstack((col_img, img))\n",
    "\n",
    "\tbegin_index += 5\n",
    "\tend_index += 5\n",
    "\tif np.any(full_img == None):\n",
    "\t\tfull_img = col_img\n",
    "\telse:\n",
    "\t\tfull_img = np.vstack((full_img, col_img))\n",
    "\n",
    "\n",
    "cv2.imshow(\"gestures\", full_img)\n",
    "cv2.imwrite('full_img.jpg', full_img)\n",
    "cv2.waitKey(0)\n"
   ]
  },
  {
   "cell_type": "code",
   "execution_count": null,
   "id": "11ffaf8d-a7bf-4af2-b773-6c6701fa5a9e",
   "metadata": {},
   "outputs": [],
   "source": []
  }
 ],
 "metadata": {
  "kernelspec": {
   "display_name": "Python 3 (ipykernel)",
   "language": "python",
   "name": "python3"
  },
  "language_info": {
   "codemirror_mode": {
    "name": "ipython",
    "version": 3
   },
   "file_extension": ".py",
   "mimetype": "text/x-python",
   "name": "python",
   "nbconvert_exporter": "python",
   "pygments_lexer": "ipython3",
   "version": "3.11.9"
  }
 },
 "nbformat": 4,
 "nbformat_minor": 5
}
