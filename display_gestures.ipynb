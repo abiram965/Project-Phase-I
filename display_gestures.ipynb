{
 "cells": [
  {
   "cell_type": "code",
   "execution_count": 5,
   "id": "d0442f25-ca54-4dbd-8440-55a99503b8b1",
   "metadata": {},
   "outputs": [
    {
     "name": "stdout",
     "output_type": "stream",
     "text": [
      "Image 'gestures/0/100.jpg' not found. Please check the file path.\n"
     ]
    },
    {
     "data": {
      "text/plain": [
       "-1"
      ]
     },
     "execution_count": 5,
     "metadata": {},
     "output_type": "execute_result"
    }
   ],
   "source": [
    "import cv2\n",
    "import os\n",
    "import random\n",
    "import numpy as np\n",
    "\n",
    "def get_image_size():\n",
    "    img = cv2.imread('gestures/0/100.jpg', 0)\n",
    "    if img is None:\n",
    "        raise FileNotFoundError(\"Image 'gestures/0/100.jpg' not found. Please check the file path.\")\n",
    "    return img.shape\n",
    "\n",
    "gestures = os.listdir('gestures/')\n",
    "gestures.sort(key=int)\n",
    "begin_index = 0\n",
    "end_index = 5\n",
    "\n",
    "try:\n",
    "    image_x, image_y = get_image_size()\n",
    "except FileNotFoundError as e:\n",
    "    print(e)\n",
    "    exit(1)\n",
    "\n",
    "rows = (len(gestures) + 4) // 5  # Ensure that rows account for the last partial row if needed\n",
    "\n",
    "full_img = None\n",
    "for i in range(rows):\n",
    "    col_img = None\n",
    "    for j in range(begin_index, min(end_index, len(gestures))):\n",
    "        gesture_folder = gestures[j]\n",
    "        \n",
    "        # Ensure we have valid images within the gesture folder\n",
    "        images_in_folder = os.listdir(f\"gestures/{gesture_folder}/\")\n",
    "        if images_in_folder:\n",
    "            img_index = random.randint(1, len(images_in_folder))\n",
    "            img_path = f\"gestures/{gesture_folder}/{img_index}.jpg\"\n",
    "            img = cv2.imread(img_path, 0)\n",
    "        else:\n",
    "            img = None\n",
    "            \n",
    "        if img is None:\n",
    "            img = np.zeros((image_y, image_x), dtype=np.uint8)\n",
    "        \n",
    "        if col_img is None:\n",
    "            col_img = img\n",
    "        else:\n",
    "            col_img = np.hstack((col_img, img))\n",
    "\n",
    "    begin_index += 5\n",
    "    end_index += 5\n",
    "    if full_img is None:\n",
    "        full_img = col_img\n",
    "    else:\n",
    "        full_img = np.vstack((full_img, col_img))\n",
    "\n",
    "cv2.imshow(\"gestures\", full_img)\n",
    "cv2.imwrite('full_img.jpg', full_img)\n",
    "cv2.waitKey(0)\n"
   ]
  },
  {
   "cell_type": "code",
   "execution_count": null,
   "id": "11ffaf8d-a7bf-4af2-b773-6c6701fa5a9e",
   "metadata": {},
   "outputs": [],
   "source": []
  }
 ],
 "metadata": {
  "kernelspec": {
   "display_name": "Python 3 (ipykernel)",
   "language": "python",
   "name": "python3"
  },
  "language_info": {
   "codemirror_mode": {
    "name": "ipython",
    "version": 3
   },
   "file_extension": ".py",
   "mimetype": "text/x-python",
   "name": "python",
   "nbconvert_exporter": "python",
   "pygments_lexer": "ipython3",
   "version": "3.11.9"
  }
 },
 "nbformat": 4,
 "nbformat_minor": 5
}
